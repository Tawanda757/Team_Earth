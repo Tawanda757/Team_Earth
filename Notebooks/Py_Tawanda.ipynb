{
 "cells": [
  {
   "cell_type": "code",
   "execution_count": null,
   "id": "51a18235-430c-402d-b324-4dc776e6cecd",
   "metadata": {
    "tags": []
   },
   "outputs": [],
   "source": [
    "import pandas as pd\n",
    "import matplotlib.pyplot as plt"
   ]
  },
  {
   "cell_type": "code",
   "execution_count": null,
   "id": "31dea7dd-9c43-4d51-8ad2-6bda00a6bc59",
   "metadata": {
    "tags": []
   },
   "outputs": [],
   "source": [
    "# reset the options\n",
    "pd.reset_option('display.max_rows')\n",
    "\n",
    "# set the option to display the maximum number of columns\n",
    "pd.set_option('display.max_columns', 20)\n",
    "\n",
    "# set the option to display the maximum number of rows\n",
    "pd.set_option('display.min_rows', 100)\n",
    "pd.set_option('display.max_rows', 100)\n",
    "\n",
    "pd.describe_option('display.max_rows')\n",
    "pd.describe_option('display.max_columns')"
   ]
  },
  {
   "cell_type": "code",
   "execution_count": null,
   "id": "6055ff89-a941-439b-90a6-de495875ed9c",
   "metadata": {
    "tags": []
   },
   "outputs": [],
   "source": [
    "pollution = pd.read_csv(\"../globalairpollution.csv\")"
   ]
  },
  {
   "cell_type": "code",
   "execution_count": null,
   "id": "f95aa144-dc3a-4c4e-9905-05d42054367f",
   "metadata": {
    "tags": []
   },
   "outputs": [],
   "source": [
    "pollution"
   ]
  },
  {
   "cell_type": "markdown",
   "id": "7a6d7054-4569-415f-95b0-84dd7b5d50c2",
   "metadata": {},
   "source": [
    "## Exploratory Data Analysis "
   ]
  },
  {
   "cell_type": "code",
   "execution_count": null,
   "id": "c318151a-6a1b-409f-935a-534133c7af47",
   "metadata": {
    "tags": []
   },
   "outputs": [],
   "source": [
    "pollution.shape"
   ]
  },
  {
   "cell_type": "code",
   "execution_count": null,
   "id": "034a81e0-8dbb-40ca-a10e-812e5cb70153",
   "metadata": {
    "tags": []
   },
   "outputs": [],
   "source": [
    "pollution.describe()"
   ]
  },
  {
   "cell_type": "code",
   "execution_count": null,
   "id": "2af9e583-c1bc-4e3d-a49d-bfdeaf13f139",
   "metadata": {
    "tags": []
   },
   "outputs": [],
   "source": [
    "pollution[\"AQI Value\"].unique"
   ]
  },
  {
   "cell_type": "code",
   "execution_count": null,
   "id": "f817cb33-4da1-4b72-8076-fcf0202e6341",
   "metadata": {
    "tags": []
   },
   "outputs": [],
   "source": [
    "pollution.head()"
   ]
  },
  {
   "cell_type": "code",
   "execution_count": null,
   "id": "5e765566-abaf-4c75-8c75-b647b4ab5d6a",
   "metadata": {
    "tags": []
   },
   "outputs": [],
   "source": [
    "pollutioncolumns = pollution.columns"
   ]
  },
  {
   "cell_type": "code",
   "execution_count": null,
   "id": "8fcdb846-c131-4b36-9087-f95e8b257f90",
   "metadata": {
    "tags": []
   },
   "outputs": [],
   "source": [
    "pollutioncolumns"
   ]
  },
  {
   "cell_type": "code",
   "execution_count": null,
   "id": "9adbf12f-13f5-4199-bbe1-f3b63ac7375f",
   "metadata": {
    "tags": []
   },
   "outputs": [],
   "source": [
    "pollution2 = pollution.drop(pollution.columns[4:10], axis=1)"
   ]
  },
  {
   "cell_type": "code",
   "execution_count": null,
   "id": "37e128ca-1768-4918-a390-76d6523ab174",
   "metadata": {
    "tags": []
   },
   "outputs": [],
   "source": [
    "pollution2.columns"
   ]
  },
  {
   "cell_type": "code",
   "execution_count": null,
   "id": "7dffb3ca-1a0c-4446-9f02-a11a5264839e",
   "metadata": {
    "tags": []
   },
   "outputs": [],
   "source": [
    "pollution2"
   ]
  },
  {
   "cell_type": "code",
   "execution_count": null,
   "id": "b74a11d4-87d3-4fd9-b77d-ea01710f5182",
   "metadata": {
    "tags": []
   },
   "outputs": [],
   "source": [
    "# group the data by Country and calculate the mean AQI Value for each group\n",
    "grouped = pollution2.groupby('Country')['AQI Value'].mean()\n",
    "\n",
    "# display the results\n",
    "print(grouped)"
   ]
  },
  {
   "cell_type": "code",
   "execution_count": null,
   "id": "1b591579-a191-4b3c-8a5e-492a07fb4bbe",
   "metadata": {
    "tags": []
   },
   "outputs": [],
   "source": [
    "# get the highest and lowest mean AQI values\n",
    "highest_mean = grouped.max()\n",
    "lowest_mean = grouped.min()\n",
    "\n",
    "# display the results\n",
    "print(\"Highest mean AQI value:\", highest_mean)\n",
    "print(\"Lowest mean AQI value:\", lowest_mean)"
   ]
  },
  {
   "cell_type": "code",
   "execution_count": null,
   "id": "0aa6a4c7-b5e3-47f1-a0b0-a657748380f7",
   "metadata": {
    "tags": []
   },
   "outputs": [],
   "source": [
    "# group the data by Country and calculate the mean AQI Value for each group\n",
    "grouped = pollution2.groupby('Country')['AQI Value'].mean()\n",
    "\n",
    "# sort the data by AQI value and display the highest and lowest mean values\n",
    "sorted_grouped = grouped.sort_values()\n",
    "print(\"Lowest mean AQI value:\\n\", sorted_grouped.head(1))\n",
    "print(\"Highest mean AQI value:\\n\", sorted_grouped.tail(1))\n",
    "\n",
    "# display the countries and their corresponding mean AQI values\n",
    "print(\"Countries and their mean AQI values:\\n\", sorted_grouped)"
   ]
  },
  {
   "cell_type": "code",
   "execution_count": null,
   "id": "3adf2098-e2ab-4c66-8c91-91bd60c0a2aa",
   "metadata": {
    "tags": []
   },
   "outputs": [],
   "source": [
    "# calculate the correlation between AQI Value and PM2.5 AQI Value\n",
    "corr = pollution2['AQI Value'].corr(pollution2['PM2.5 AQI Value'])\n",
    "\n",
    "# display the correlation coefficient\n",
    "print(\"Correlation coefficient between AQI Value and PM2.5 AQI Value:\", corr)"
   ]
  },
  {
   "cell_type": "markdown",
   "id": "46acdcb7-8bb5-4daa-82c0-dba63b22bc27",
   "metadata": {},
   "source": [
    "The correlation coefficient between AQI Value and PM2.5 AQI Value is 0.9843265891583712, which is very close to 1. This indicates a very strong positive correlation between these two variables. In other words, as the AQI Value increases, the PM2.5 AQI Value tends to increase as well, and vice versa.\n",
    "\n",
    "This result is not surprising, as the PM2.5 AQI Value is a sub-component of the overall AQI Value, which is calculated based on a combination of different air pollutants. The PM2.5 AQI Value specifically measures the concentration of fine particulate matter in the air, which is a major contributor to air pollution and can have negative health effects.\n",
    "\n",
    "Overall, this result highlights the importance of monitoring and controlling the levels of fine particulate matter in the air, as it is closely linked to the overall air quality and can have significant impacts on public health."
   ]
  },
  {
   "cell_type": "code",
   "execution_count": null,
   "id": "dc23e8e2-7ed9-4168-9295-e5818443d77b",
   "metadata": {
    "tags": []
   },
   "outputs": [],
   "source": [
    "#sorted_grouped"
   ]
  },
  {
   "cell_type": "code",
   "execution_count": null,
   "id": "e7765d01-0381-4026-8e24-ba2674288670",
   "metadata": {
    "tags": []
   },
   "outputs": [],
   "source": [
    "# sort the data by AQI value\n",
    "sorted_grouped = grouped.sort_values()\n",
    "\n",
    "# plot the top 10 and bottom 10 countries by their mean AQI values\n",
    "bottom = sorted_grouped.tail(10)\n",
    "top = sorted_grouped.head(10)"
   ]
  },
  {
   "cell_type": "code",
   "execution_count": null,
   "id": "c9e1ca06-51d4-469b-8bb9-8da16c255dd1",
   "metadata": {
    "tags": []
   },
   "outputs": [],
   "source": [
    "top"
   ]
  },
  {
   "cell_type": "code",
   "execution_count": null,
   "id": "365782e6-8618-422d-b861-3672f908423c",
   "metadata": {
    "tags": []
   },
   "outputs": [],
   "source": [
    "bottom"
   ]
  },
  {
   "cell_type": "code",
   "execution_count": null,
   "id": "0daf4b63-00dc-4862-8bf0-22d6c8d17cb3",
   "metadata": {
    "tags": []
   },
   "outputs": [],
   "source": [
    "# add labels and a title to the plot\n",
    "plt.xlabel('Country')\n",
    "plt.ylabel('Mean AQI Value')\n",
    "plt.title('Top and bottom 10 countries by mean AQI value')\n",
    "\n",
    "top.plot(kind='bar', figsize=(10,6), color='blue')\n",
    "\n",
    "# bottom.plot(kind='bar', figsize=(10,6), color='purple')\n",
    "\n",
    "# display the plot\n",
    "plt.show()"
   ]
  },
  {
   "cell_type": "code",
   "execution_count": null,
   "id": "bcf3d773-4521-4168-8a8c-88413bf5f078",
   "metadata": {},
   "outputs": [],
   "source": [
    "bottom.plot(kind='bar', figsize=(10,6), color='purple')"
   ]
  },
  {
   "cell_type": "code",
   "execution_count": null,
   "id": "0304b82b-8518-4dff-b7a2-e574fa574bfa",
   "metadata": {},
   "outputs": [],
   "source": [
    "# Compute the correlation matrix\n",
    "corr_matrix = pollution.corr()\n",
    "# Print the correlation matrix\n",
    "print(corr_matrix)"
   ]
  },
  {
   "cell_type": "code",
   "execution_count": null,
   "id": "9c7b70cb-040c-4fbc-87eb-23799dc1a605",
   "metadata": {},
   "outputs": [],
   "source": [
    "import pandas as pd\n",
    "import numpy as np\n",
    "import seaborn as sns\n",
    "import matplotlib.pyplot as plt\n",
    "# Create a heatmap using seaborn\n",
    "sns.heatmap(corr_matrix, annot=True, cmap='coolwarm')\n",
    "# Show the plot\n",
    "plt.show()"
   ]
  },
  {
   "cell_type": "markdown",
   "id": "c7cc17b1-433f-4e70-8672-e547d585c26d",
   "metadata": {},
   "source": [
    "#### We will be creating a linear regression model to predict aqi values using carbon and pm2.5 since there is a high correlation\n",
    "\n",
    "#### y = b1x + b0\n",
    "\n",
    "#### y will represent carbon and x will represent the pm2.5"
   ]
  },
  {
   "cell_type": "code",
   "execution_count": null,
   "id": "0543b292-46de-4942-b994-d16111292d8e",
   "metadata": {},
   "outputs": [],
   "source": [
    "import pandas as pd\n",
    "from sklearn.linear_model import LinearRegression"
   ]
  },
  {
   "cell_type": "code",
   "execution_count": null,
   "id": "0c339398-054d-4637-b5db-e1b82e4d4864",
   "metadata": {},
   "outputs": [],
   "source": []
  }
 ],
 "metadata": {
  "kernelspec": {
   "display_name": "Python 3 (ipykernel)",
   "language": "python",
   "name": "python3"
  },
  "language_info": {
   "codemirror_mode": {
    "name": "ipython",
    "version": 3
   },
   "file_extension": ".py",
   "mimetype": "text/x-python",
   "name": "python",
   "nbconvert_exporter": "python",
   "pygments_lexer": "ipython3",
   "version": "3.10.4"
  }
 },
 "nbformat": 4,
 "nbformat_minor": 5
}
